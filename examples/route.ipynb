{
 "cells": [
  {
   "cell_type": "code",
   "execution_count": 1,
   "metadata": {},
   "outputs": [
    {
     "name": "stdout",
     "output_type": "stream",
     "text": [
      "/Users/mpham/Documents/Git/bosch-hackathon-24\n"
     ]
    }
   ],
   "source": [
    "%cd .."
   ]
  },
  {
   "cell_type": "code",
   "execution_count": 2,
   "metadata": {},
   "outputs": [],
   "source": [
    "from src.route import route\n",
    "from src.route import get_coordinates"
   ]
  },
  {
   "cell_type": "code",
   "execution_count": 3,
   "metadata": {},
   "outputs": [
    {
     "name": "stdout",
     "output_type": "stream",
     "text": [
      "{'routes': [{'distanceMeters': 55921, 'duration': '3413s', 'polyline': {'encodedPolyline': 'o|l_IqmspA{@~GERQNS?KC}BeG_AiCi@_BWs@aAfAk@bAk@bB{@vCm@xAu@pAk@n@eCvBk@p@o@lAc@jAcBpF_AzDaAjEWdCExAVhPNrCh@~FBnBGfCUfC{@nGcAzEm@fCWrBQ`CAfCDvBP`Cf@vDxAdJwH|@aFx@cGjAsSdDYMi@e@_@q@QQi@Ki@De@VQT[bAGv@FfANx@Rf@b@b@JDFb@`@rAjBrp@d@nO`@pPDf@h@vSZ|JpAlf@?v@I\\\\IV[ZUp@Kn@C|@DfANx@Xn@~@pAH\\\\vEdeB`B|k@|@b_@dBtq@ZhKxAGRD\\\\O|AKx@NtAt@`@D^MRQn@iA`@]ZMZEf@HRKjCbA~Bl@bH`AdBd@fB~@HXb@b@d@lAXfAL`AFnA@dFDnARrANf@^~@pArBlHxJVVRApPbVxHpKn\\\\bd@hr@x_A~FhHvl@rr@fG|HnDzEfMzPd~DvpFvRzWlBtBxAjAxAz@zAj@bCj@|^xF|AB`BQdBk@pAw@pAqAjAaB~DwHhA_B|@}@|AcA~Ai@rDk@j^}E`Eg@bLoAtCBhCZnAZ`AZfCnAzB`BzBxB~dAhnAxCzDtBdDlBtDpBxElBrFfAzDtAlGjAzGlSvsAv@|D|@nDxAfElAlCrAdC`B~BfBrB`BtAnCfBt_@dTjChAlCt@hDh@`DHdUMNTxCPpDAZCrGEv@Hf@X\\\\f@Tx@HbABzEGdAQz@a@p@_@Xe@Ha@Ga@W]g@Oe@QuAIYIsVE_D]yFe@oEi@kDq@cDaAoD}F_Rq@oCe@qCa@iDSuDGaDBwCL}C\\\\gEb@sCf@cC|@uCbGqOhCqHzAiFtA}FdAsFfAcHt@gHl@yH\\\\{HPyGBeHGgIeBqv@IuIBqJLsHV_Hh@_J^oEl@qGv@eGzAiJ`AwEdBoH`B{FpBeGxCgIzB_GpA_Ez@aDdAiFl@aEn@aGtCuZrBgT`@wEpNwzAdBaRf@mHPsEjEkcB`@uHf@eGp@uF|@uFjAsFnA{EzAwElB{ElAiCnBkDdCuDbCwClBgBhBoA`Bs@bBa@vAMlCEfASp@Y|@s@t@{@h@aARMd@}@`@[^Gz@JhXxGdBXRIrAX`Fp@nEXtEFtRMhFIrAM`F{@xBk@hOmFrJoDvCaArGgBbEy@|Ca@xAOxi@cBlEQxIUpDMr@GvRo@lIOnE?dFTzDb@nE~@dD|@vEhBbEpBrUrNj@R|Ar@tC|@bC^bBNbCDhDGfD?pCNrAT|DjA`IjCxLtDbU~HvIrCzEhBdCtAvB|AlBbBhCxCpJdNdCxCrBnBnCpBpCzA`C|@hG~A`QjEvDpAvDhBrD~BfCnBjDlD`CpCtC~DbCdErAfCxAbD`BdEvAbEfArD`ApEt@xEl@fF\\\\fFLdDFvECjEMvEUdEe@jFsAtJy@~Fi@jFY~EMlE?jEHvETpE^hEj@bEt@zD~@pDhAfDpA~CxAnCdBhCjBxBrAnArBxA|A~@tBv@dCj@xBRnBDnBGhC_@|Bo@rB}@hDsBlGaExC}AxCiA|Bk@`Dc@~CQ|CD`DZzCl@|CdAvCtArCfBlHbFnAp@~Bz@`Ch@~APnBF`CGxAOtBc@vBw@~BmAn@a@PB|@_@nASbACZHZZTn@NVNpA@|BEj@AvASRGV@^LXPFRIJ]|Ec@`AC~@Rx@d@fLlLVd@|EtGhBxBNLnKxQh@t@t@|@JT^d@D^NPPAHS@g@EMH_AhDoObBkH|EiTzAjBh@~@pBvDr@dBrA|CdAhCPn@`@dBa@v@'}}]}\n"
     ]
    }
   ],
   "source": [
    "route1 = route(( 52.50012135444447,13.375792141282366), (52.217483550817676,13.222586630447536))"
   ]
  },
  {
   "cell_type": "code",
   "execution_count": 4,
   "metadata": {},
   "outputs": [
    {
     "data": {
      "text/plain": [
       "(52.49537, 13.26828)"
      ]
     },
     "metadata": {},
     "output_type": "display_data"
    }
   ],
   "source": [
    "route1.get_point(10)"
   ]
  },
  {
   "cell_type": "code",
   "execution_count": 5,
   "metadata": {},
   "outputs": [
    {
     "name": "stdout",
     "output_type": "stream",
     "text": [
      "{'routes': [{'distanceMeters': 288547, 'duration': '11510s', 'polyline': {'encodedPolyline': 'ewyeIas}{@^_An@aDF}@zCU~@EV_ED_D?iA[ySa@mOQkGMwDAmCD{@NqATyAFkC@oFGyAcAyMQqCAwDF_GDwBHeA@iBGwBSwEIoGOgCScBmEcUqC{O{BgLwByL{@uEYeBe@\\\\iArA_@RSDm@BaCUoCq@wGgB_@SQa@iAmAo@oAYu@YcBsBkOiD}UqAuGsBmJeAyDwAkCw@mAy@sBg@iBe@oC_@}DaA{QKiEBsELaJFgAZwUNcORoGf@sHRcE`@aH~AaVRaEh@aITeB^}A^i@^Mh@i@Ro@Lw@Bu@Es@Ou@Wm@]]a@Ok@?c@[gCyEaBqD_BqEs@_Cm@qCc@yCi@}FaB}Vw@uQsCur@y@oO}@_NcD}b@w@aNgJuuBUwHMaJ?{IJkJPmHd@yJ`@sFj@sG~@eIzLk{@lBaMxCoPfEgUp@gEb@eEVyEFkECgEu@_[J]IoL?eJJwGRiGb@sGt@mIx@kHtJ}t@~AwNr@}Hb@{Gr@gN^iMRmN?mMMaOyAkx@q@sVk@oOs@wMeAgPcBwSuEwi@yJiiAmNoaBmAqM_Ci\\\\aB_ZcBq`@{Am`@{Ac]cAyY_@qN_@sRCo_@N{Q\\\\wOf@cOr@_Ox@sMv@{I|@cI`CiPbSwqAhD_UbBmMjA_Lv@yJn@iL^iKR}LD{JEmKSsK_@gLq@}M{@iNmDog@w@iNc@_KYoKK_J@aJPuLd@kObBs`@xA_]pFypAr@wSb@mQXeSDoL?_JGsQU_OW{Lg@cOs@eO_AmPyBc[qi@{bHaBiV_AiQo@aP_@aNScOGeODaNPmNZeNh@kNl@cLfA{OfAiMhByPlCmTlPemAxAyLhAgLr@gI|@eNz@gQhBgh@v@_Qp@mK|@yKdAyJx@sGvA}JbIaf@hBqMlAsKtAsOp@iKb@wIj@uQx@i[T{IXyH^mHZmF|@cLtAgOdAwJ`Fca@nAaLx@cJv@{Kt@uN^qMRoLDiLEgPeAspBEgVDmVRgYb@gWr@{Xp@sPdBu]p@}KjCg^vAoOdBuO~@yHlCgRv@cF~BqM|C}O~CuNtHk\\\\dCgKdKyc@hGkY~DaSvC_PjEwWnCkR`A{GtDcZ|_@scDxDaZlC}Qpg@}aDhEaX`CuNlEyYlScqA~BmP|BkR~AeO~A_QvAeRfA}Q~@cSl@_Qb@eRXkSJiXfBwmGBaNIgWOuQ_@sVmC}hAYyVCqLD{RNmPnCy|AzAsv@r@cY~@eXdAqVvBo`@nHcnAvAwW|@}Mbn@cqKhAmTfAaX|@uXn@aY\\\\eV|AguA`@}Tt@cYbAiYdNidDjA_W`A{PtCcc@zCgb@rDug@fBqVx@iMbDqc@~Eip@hKkwAt@sLfAeVf@uO\\\\wOPePFcSCaNOcPa@cSi@uO}@}RaAuOkBmWcAiQo@wOg@kQWqQK{O?qQNqQX{Ob@wOj@iN`A{PnAiQzA{P`AkJpBoPxAaKdBaL~B{MpCmNnC}LbDqMzDoNdDqKtGoRvHuTnDeLfDmLlCiKfDsNjCiMrCkO|BsNhBiMjBiOtB{P~BePrCoPlCkNvC_N~CkMdEoOzDiMtD}KtD{JtCmHrHsP~FmLzjA}vB`GiLzF{LpEiKrFgNfFqN~EeOtCqJhFeRrCgLvDkPlDeQvCaPhCcPjC}QzBcRxBcTzAiQnAyPbAoQ~@mSr@mU`@wSPaPDkNCcSOoRYqQg@eRm@qPmDcu@g@}Me@iQY{QOuSCwQHmQRsP\\\\{Pl@uRt@_QbA}QtA{RvAuPdByPnB{PnB{NrCeRtCmPjDiQfCmLbEcQtC{KpIa[pCcLpCmMbCyMxA_JtDuVbIkk@hC}OhByJlCqM`C}J`DoLvDeMnDeKpEkLrEiK|EwJ|FqKpSw]~FkKpEyIxDgInFqMbE}KxDwLlD}LhEmPnIs]pDcOvCaLhBsGrC_J|D{KfEsKxEmKtEiJhJyPrIgOvGoMxCoGfFsLfDoIfEmLnEaNdEmNxDyNlDgOrDeQnBqKvC_RhCuQtBmQlBiS\\\\aEhBgX|@{Pj@{OXgK`@oTXiZNqb@z@qhFPoQ\\\\kPh@aPb@iKj@eK`AiOpAkO`CuUjB_O`CkPnC_PnCkNpBoJpDeOzCaLtDgM|DuLxHqTbEsMvD{MdDoMjCmLpC}MxBwLzBiNjBoMpBkPdBwPnAiOjA}Px@uOr@iQRyGdAeXn@iLvA}RfAcMjCoVdB{MbBiL~BoNhDqQ`D_OrI{]bD_OrDkRjC}NlDcUdCwQtBoQlCoVfCaStBsNlC_P`C{LhE_S`D{MhDgMhCaJnEkNzE{M~EeM~EcL~F_MdGiLjHkMxHcMjP}VpKyO~GsK~GwLfGoLdEwIpEgKhGmOhEqLpEcNdEgN`EwNrDkO~CsNfD{PnCyOxB}NlB}NrCwVdBcRtAgQdA{P|@eRn@{Qd@iTPcQL{U`@{xELaXXeXh@cZj@aUp@kThAsX|Aa[bBwXzDgi@lCo\\\\|B{V~BgTtBwPpBiNdDcS~B}LbCkLxA{GrDaOfFuQnCcJnE{MpF{N~DyJnEsKtEyLzD_LnEqN`DeLhC}JpDqOpC_N~C}P|BsNhCiR|a@i~ChDcUnDeT~D_TvDsQfBgI`EyPpFySzF_SxEoOdGoQzGuQ~G{PrH{PdH_OfGuLjHuMnHaMrIyMpKwOxEyHvF}JnFkKnFeLjF}LpEkLpF{OpDiLrCyJtDsN~G_Z|E}QxFwRvFaQrFuOhGwOreCq_G~G{NlCoFnE}HlDyG|I{NlEuGlKuNjH_JdIuJ~GcJtFaIjHgLfFcJdFyJtFqL`JcTtBuFxDuKfEuMjIoYhEyQrBwJfCuMrCsPdCmPdCoRhA_K`BaQtA{PbAqPx@_Q`IulB`A}PdAeOlAkNbBkPrBmP`CmPlCgP`CcM|C{NpDkO|D}NxDmMbEaMxDkKfFmMrEcK`GyLfDmGjFeJrGcK~LsQpGmKjFoJnGkM`DeH`FuLdEyKhEgMnDiLxCsKtC_LdD{N`D}OnC{OvBsNpBiOtA{LdAmKtAmPfAePp@}MRqEPg@XuFd@uEj@oDt@oD`AkDnAgDtAwC|AeC~BsCfAcApBsAlB_AxAe@L[pUsFnLeDrHkC`GeCvGgDfGoDjFqDpGaFfFqEtFuF`GwGlF{G~EaHlFoIrEcIfFcKdEiJxFqNlGgQtNyb@tSmn@|FgPtFiN`EeJfE{IjF{JlFaJtFyI~FkIdGwHdHeIvF_GvGiG|HqG~GaF|HcFvKaGlFcC|H_DrLcEf\\\\yKlWuInIeD|DiBrIwE|HcF|EmDhGeFrFaFbGiG`FwFdEiFbF_HjGkJvFqJrGsLn\\\\_p@rHeNpF_JzEgHlFgH~E}FxFcGnGaGxFyE`OyK|WoRpKkI~MkLtKaKhKkK~JwKpKeMzKkN~rBkmCtHmJlLwM|JgK`LkKlIgH~_@s[xJwIfIeIfG_HvEaGdFgHzFeJlFoJtFyKjIsQ~Nc\\\\fD_HjDuGdFaJnEmHlGmJ`IuKvYm`@rGkJrF_JjFqJ|EyJtEqK|DaKzDaLpCeJlDgMvFgU`Pgq@vEsQpD_MjDiKrDyJrEwK`FoK|DsH`EcHrFoI~GmJvNwQnd@_k@`HoJxB_DrD_GpFcJpDyGj[_n@nFuJ|FoJlEsGbGyHdFaGbGiGxGcGtDwCfHaFnFcD`HqD~OgH~[_NnuBs|@jTyJvLoGzFeDhHoEdJoGrHaGzH_HlIaIpOwObRySbMwNhI_JxIwIxGwFhGsExHyEtGgDlFgChHqCbEqA~F{A~FkArHeAbGi@~H]jKOxc@Fd~@MtR_@jMk@fMgA~JqAnHkAnK}BxIcCrIqCvHyCnI{DlJ}ElIcF|EaDlIgGfI}GnF{EtHqHtIqJvGaIvDaF~H_LtGcK`HqLhFyJzD}H`FsKhF_MfG}ObEoLrFgQpDcMnE_Q`DiNvDsQdC{MlAgH|CeSvByOpCgUxDy]dI_z@xDk`@jCgVnCaUvBwOrC{QlDkS|D_SnDgPpDeOtEiQtEaPlEgNfEeMlFwN`LwYt`@uaA`Y_s@rFeOdD_KbD}KlCgKlBmIhCaMxAcInB}LzAuKtAiLrA_Nz@uKx@kMtA_YnB{e@z@_S|Bud@jCgd@rBc[vCka@`Daa@jCwZhRsqBbV}gC|AeRz@mM|@}P`@oJj@oQ\\\\oRLgOBeRE{LQ_QW}Mi@qPy@cRyG{lAs@yOi@{QUkLSuREuP@oLN{OZuPj@mRvCm{@d@gQXqOb@}^HmXSgoEBua@J}OXmMn@{Pv@uO`A_OlAeOzF}n@|A_PzIwaAtAkRdAwQt@cQ^yL`@yRPuRBuMIsRsBuzBIqKEePB_JLmMF{Eb@iPh@gNn@}L`A{NfAkMzAaOfBaO`BgLtBmM`D}PpJee@j[w{AlPqx@~CsPzBaN`CaPjAyIhBmPpAqM~A{RnAoRv@qP^kJd@sPN{HjAqy@h@iVf@wNPuDTcDfAoNz@kH|@wG~@qGzBqLhBgItAmFvBoHxC{IrCgHxCsGvC}F|DuG|CoE~DgFlD}DxDuD`EiDzGeFbFiDnT}MbReL`VaO~JaHdFuDzF{ErFgFrDsDXFfFsEdI_KtFuHtA}ApBqBhDkCrDmB~Am@pDo@rD]nHc@hGSbDW`M_@j@?hNm@dGQdG]lDe@nE_ArAe@tCuAtDeChBwA`CcClCoDzBoDfB_Dhh@kaApDsGrB}CdBuBvDsDnCqBvBmAxCoApC{@|A]jDc@jDK~CHxC\\\\~Bd@`HtBjk@pSxCtApCdB~BhBpCtCneAdlA|ArAtA~@fChAlAZtBV`ABz@AtOqAjCIxBJ`KbB~LhBlCd@v@HpPtCxLhB~@AbBQvRqCbVgEvE_A|ZgF`@?f@Nj@Zr@Bf[xKrCx@b@FxDbAl@LxAn@~AbA|C`BlAd@xJzErAx@tCvAh@Nfp@d\\\\`CbBxBbBz@t@dElEZTbBdBhDtC~BpCjC|ChGlItCzDzExI~@zBnH~QbCpGRd@Ta@K]'}}]}\n"
     ]
    }
   ],
   "source": [
    "route2 =route(\"Hamburg\",\"Berlin\")"
   ]
  },
  {
   "cell_type": "code",
   "execution_count": 6,
   "metadata": {},
   "outputs": [
    {
     "data": {
      "text/plain": [
       "(53.56693, 10.12496)"
      ]
     },
     "metadata": {},
     "output_type": "display_data"
    }
   ],
   "source": [
    "route2.get_point(10)"
   ]
  }
 ],
 "metadata": {
  "kernelspec": {
   "display_name": "boschhack",
   "language": "python",
   "name": "python3"
  },
  "language_info": {
   "codemirror_mode": {
    "name": "ipython",
    "version": 3
   },
   "file_extension": ".py",
   "mimetype": "text/x-python",
   "name": "python",
   "nbconvert_exporter": "python",
   "pygments_lexer": "ipython3",
   "version": "3.12.2"
  }
 },
 "nbformat": 4,
 "nbformat_minor": 2
}
